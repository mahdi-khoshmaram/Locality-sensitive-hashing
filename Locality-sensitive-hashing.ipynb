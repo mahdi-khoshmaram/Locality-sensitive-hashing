{
 "cells": [
  {
   "cell_type": "markdown",
   "id": "0fdbc6f3-0cce-45d8-ae24-a0b8a9faebbb",
   "metadata": {},
   "source": [
    "<p>\n",
    "    <font size=\"6\"; face= \"Trebuchet MS\"; color=\"green\">\n",
    "            <b>\n",
    "                This notebook is created by: <a href=\"https://github.com/mahdi-khoshmaram\">Mahdi khoshmaram</a> \n",
    "            </b>\n",
    "</p>"
   ]
  },
  {
   "cell_type": "markdown",
   "id": "f651becf-fc2f-48db-840f-204493e12b9a",
   "metadata": {},
   "source": [
    "<p>\n",
    "    <font size=\"5\"; face= \"Trebuchet MS\"; color=\"brown\">\n",
    "            <b>\n",
    "             LSH algorithm from scratch!  \n",
    "            </b>\n",
    "    </font>\n",
    "</p>\n",
    "<p>\n",
    "    <font size=\"3\"; face= \"Trebuchet MS\"; color=\"brown\">\n",
    "            <b>\n",
    "             The whole code is written by myself and I do not use any helper packages except <i>Numpy<i>, <i>Pandas<i>, <i>Random<i> and <i>tqdm<i>.\n",
    "            </b>\n",
    "    </font>\n",
    "</p>\n",
    "\n"
   ]
  },
  {
   "cell_type": "markdown",
   "id": "a432dc1c-aabb-4916-ba3d-a689702cbd20",
   "metadata": {
    "jp-MarkdownHeadingCollapsed": true
   },
   "source": [
    "## Import numpy, pandas, random and tqdm modules"
   ]
  },
  {
   "cell_type": "markdown",
   "id": "e040f4bb-10f0-4280-b8bf-ca7eb8d90885",
   "metadata": {
    "jp-MarkdownHeadingCollapsed": true
   },
   "source": [
    "import pandas as pd\n",
    "import numpy as np\n",
    "import random\n",
    "from tqdm import tqdm"
   ]
  },
  {
   "cell_type": "code",
   "execution_count": 11,
   "id": "7386e29c-b8ee-4363-b78b-2c7a2d81dde8",
   "metadata": {},
   "outputs": [],
   "source": [
    "import pandas as pd\n",
    "import numpy as np\n",
    "from tqdm import tqdm\n",
    "import random"
   ]
  },
  {
   "cell_type": "markdown",
   "id": "d0a4f3e3-82e7-43da-a6ec-bacddc2683b6",
   "metadata": {
    "jp-MarkdownHeadingCollapsed": true
   },
   "source": [
    "## Read csv file\n",
    "I set **doc_id** column as index column."
   ]
  },
  {
   "cell_type": "code",
   "execution_count": 4,
   "id": "a8b312bb-4f14-4356-b776-0199955b1cc4",
   "metadata": {},
   "outputs": [],
   "source": [
    "df = pd.read_csv(\"docs_for_lsh.csv\", index_col='doc_id')"
   ]
  },
  {
   "cell_type": "code",
   "execution_count": 5,
   "id": "71ec9081-4e48-4ff7-9340-ca3c0db0d09e",
   "metadata": {},
   "outputs": [
    {
     "name": "stdout",
     "output_type": "stream",
     "text": [
      "<class 'pandas.core.frame.DataFrame'>\n",
      "Index: 1000000 entries, 0 to 999999\n",
      "Columns: 200 entries, 0 to 199\n",
      "dtypes: int64(200)\n",
      "memory usage: 1.5 GB\n"
     ]
    }
   ],
   "source": [
    "df.info()"
   ]
  },
  {
   "cell_type": "code",
   "execution_count": 6,
   "id": "bdbed6b1-503d-4b5f-bb7b-658f9bf559f2",
   "metadata": {},
   "outputs": [
    {
     "data": {
      "text/html": [
       "<div>\n",
       "<style scoped>\n",
       "    .dataframe tbody tr th:only-of-type {\n",
       "        vertical-align: middle;\n",
       "    }\n",
       "\n",
       "    .dataframe tbody tr th {\n",
       "        vertical-align: top;\n",
       "    }\n",
       "\n",
       "    .dataframe thead th {\n",
       "        text-align: right;\n",
       "    }\n",
       "</style>\n",
       "<table border=\"1\" class=\"dataframe\">\n",
       "  <thead>\n",
       "    <tr style=\"text-align: right;\">\n",
       "      <th></th>\n",
       "      <th>0</th>\n",
       "      <th>1</th>\n",
       "      <th>2</th>\n",
       "      <th>3</th>\n",
       "      <th>4</th>\n",
       "      <th>5</th>\n",
       "      <th>6</th>\n",
       "      <th>7</th>\n",
       "      <th>8</th>\n",
       "      <th>9</th>\n",
       "      <th>...</th>\n",
       "      <th>190</th>\n",
       "      <th>191</th>\n",
       "      <th>192</th>\n",
       "      <th>193</th>\n",
       "      <th>194</th>\n",
       "      <th>195</th>\n",
       "      <th>196</th>\n",
       "      <th>197</th>\n",
       "      <th>198</th>\n",
       "      <th>199</th>\n",
       "    </tr>\n",
       "    <tr>\n",
       "      <th>doc_id</th>\n",
       "      <th></th>\n",
       "      <th></th>\n",
       "      <th></th>\n",
       "      <th></th>\n",
       "      <th></th>\n",
       "      <th></th>\n",
       "      <th></th>\n",
       "      <th></th>\n",
       "      <th></th>\n",
       "      <th></th>\n",
       "      <th></th>\n",
       "      <th></th>\n",
       "      <th></th>\n",
       "      <th></th>\n",
       "      <th></th>\n",
       "      <th></th>\n",
       "      <th></th>\n",
       "      <th></th>\n",
       "      <th></th>\n",
       "      <th></th>\n",
       "      <th></th>\n",
       "    </tr>\n",
       "  </thead>\n",
       "  <tbody>\n",
       "    <tr>\n",
       "      <th>0</th>\n",
       "      <td>1</td>\n",
       "      <td>0</td>\n",
       "      <td>1</td>\n",
       "      <td>0</td>\n",
       "      <td>0</td>\n",
       "      <td>0</td>\n",
       "      <td>1</td>\n",
       "      <td>1</td>\n",
       "      <td>0</td>\n",
       "      <td>1</td>\n",
       "      <td>...</td>\n",
       "      <td>0</td>\n",
       "      <td>0</td>\n",
       "      <td>0</td>\n",
       "      <td>0</td>\n",
       "      <td>0</td>\n",
       "      <td>0</td>\n",
       "      <td>0</td>\n",
       "      <td>0</td>\n",
       "      <td>0</td>\n",
       "      <td>0</td>\n",
       "    </tr>\n",
       "    <tr>\n",
       "      <th>1</th>\n",
       "      <td>1</td>\n",
       "      <td>1</td>\n",
       "      <td>0</td>\n",
       "      <td>1</td>\n",
       "      <td>0</td>\n",
       "      <td>1</td>\n",
       "      <td>1</td>\n",
       "      <td>0</td>\n",
       "      <td>0</td>\n",
       "      <td>0</td>\n",
       "      <td>...</td>\n",
       "      <td>0</td>\n",
       "      <td>0</td>\n",
       "      <td>0</td>\n",
       "      <td>0</td>\n",
       "      <td>0</td>\n",
       "      <td>0</td>\n",
       "      <td>0</td>\n",
       "      <td>0</td>\n",
       "      <td>0</td>\n",
       "      <td>0</td>\n",
       "    </tr>\n",
       "    <tr>\n",
       "      <th>2</th>\n",
       "      <td>1</td>\n",
       "      <td>0</td>\n",
       "      <td>1</td>\n",
       "      <td>0</td>\n",
       "      <td>1</td>\n",
       "      <td>1</td>\n",
       "      <td>0</td>\n",
       "      <td>1</td>\n",
       "      <td>0</td>\n",
       "      <td>0</td>\n",
       "      <td>...</td>\n",
       "      <td>0</td>\n",
       "      <td>0</td>\n",
       "      <td>0</td>\n",
       "      <td>0</td>\n",
       "      <td>0</td>\n",
       "      <td>0</td>\n",
       "      <td>0</td>\n",
       "      <td>0</td>\n",
       "      <td>0</td>\n",
       "      <td>0</td>\n",
       "    </tr>\n",
       "    <tr>\n",
       "      <th>3</th>\n",
       "      <td>0</td>\n",
       "      <td>0</td>\n",
       "      <td>0</td>\n",
       "      <td>1</td>\n",
       "      <td>1</td>\n",
       "      <td>0</td>\n",
       "      <td>1</td>\n",
       "      <td>0</td>\n",
       "      <td>1</td>\n",
       "      <td>1</td>\n",
       "      <td>...</td>\n",
       "      <td>0</td>\n",
       "      <td>0</td>\n",
       "      <td>0</td>\n",
       "      <td>0</td>\n",
       "      <td>0</td>\n",
       "      <td>0</td>\n",
       "      <td>0</td>\n",
       "      <td>0</td>\n",
       "      <td>0</td>\n",
       "      <td>0</td>\n",
       "    </tr>\n",
       "    <tr>\n",
       "      <th>4</th>\n",
       "      <td>0</td>\n",
       "      <td>0</td>\n",
       "      <td>1</td>\n",
       "      <td>1</td>\n",
       "      <td>1</td>\n",
       "      <td>1</td>\n",
       "      <td>0</td>\n",
       "      <td>1</td>\n",
       "      <td>0</td>\n",
       "      <td>0</td>\n",
       "      <td>...</td>\n",
       "      <td>0</td>\n",
       "      <td>0</td>\n",
       "      <td>0</td>\n",
       "      <td>0</td>\n",
       "      <td>0</td>\n",
       "      <td>0</td>\n",
       "      <td>0</td>\n",
       "      <td>0</td>\n",
       "      <td>0</td>\n",
       "      <td>0</td>\n",
       "    </tr>\n",
       "  </tbody>\n",
       "</table>\n",
       "<p>5 rows × 200 columns</p>\n",
       "</div>"
      ],
      "text/plain": [
       "        0  1  2  3  4  5  6  7  8  9  ...  190  191  192  193  194  195  196  \\\n",
       "doc_id                                ...                                      \n",
       "0       1  0  1  0  0  0  1  1  0  1  ...    0    0    0    0    0    0    0   \n",
       "1       1  1  0  1  0  1  1  0  0  0  ...    0    0    0    0    0    0    0   \n",
       "2       1  0  1  0  1  1  0  1  0  0  ...    0    0    0    0    0    0    0   \n",
       "3       0  0  0  1  1  0  1  0  1  1  ...    0    0    0    0    0    0    0   \n",
       "4       0  0  1  1  1  1  0  1  0  0  ...    0    0    0    0    0    0    0   \n",
       "\n",
       "        197  198  199  \n",
       "doc_id                 \n",
       "0         0    0    0  \n",
       "1         0    0    0  \n",
       "2         0    0    0  \n",
       "3         0    0    0  \n",
       "4         0    0    0  \n",
       "\n",
       "[5 rows x 200 columns]"
      ]
     },
     "execution_count": 6,
     "metadata": {},
     "output_type": "execute_result"
    }
   ],
   "source": [
    "df.head()"
   ]
  },
  {
   "cell_type": "markdown",
   "id": "c5ef3a2a-3a7d-4516-aa45-e33dfd8ef5c3",
   "metadata": {
    "jp-MarkdownHeadingCollapsed": true
   },
   "source": [
    "## Setting parameter of my universal minhash function.\n",
    "I want to have a signature of length **25** for each document, so we should have 25 minhash functions! \n",
    "\n",
    "you can generate family of hash functions using following simple equation:\n",
    "\n",
    "\n",
    "$$\n",
    "h(x,a,b) = ((ax+b) \\mod p) \\mod m\n",
    "$$\n",
    "\n",
    "\n",
    "\n",
    "- **x** is key you want to hash\n",
    "- **a** is any odd number you can choose between 1 to p-1 inclusive.\n",
    "- **b** is any number you can choose between 0 to p-1 inclusive.\n",
    "- **p** is a prime number that is greater than max possible value of x\n",
    "- **m** is a max possible value you want for hash code + 1"
   ]
  },
  {
   "cell_type": "code",
   "execution_count": 7,
   "id": "06699b50-749c-4620-8606-fe0f7a7d861f",
   "metadata": {},
   "outputs": [],
   "source": [
    "# p is a prime number that is greater than max possible value of x (211 is the first prime number after 200)\n",
    "p = 211\n",
    "\n",
    "# m is a max possible value you want for hash code + 1 (200+1)\n",
    "m = 201\n",
    "\n",
    "# length of my signatures\n",
    "num_minhash = 25\n",
    "\n",
    "# params = list of (a,b)\n",
    "params = []\n",
    "\n",
    "# I made this loop to create 25 (a, b) which satisfies that a is odd and both a & b are less than p-1\n",
    "while len(params) != 25:\n",
    "    q = random.randint(1,p)\n",
    "    w = random.randint(0,p)\n",
    "    if (q%2 != 0) and (q,w) not in params:\n",
    "        params.append((q,w))"
   ]
  },
  {
   "cell_type": "markdown",
   "id": "2a863c98-ff5f-4b72-99b9-be1c77549b9a",
   "metadata": {
    "jp-MarkdownHeadingCollapsed": true
   },
   "source": [
    "## Defining Minhash function \n",
    "\n",
    "<i>my Pseudocode for Minhash function<i>\n",
    "\n",
    "```python\n",
    "Define signature matrix with shape of (number_of_document, number_minhash_functions) = (1000000, 25)\n",
    "for each column in signature_matrix:\n",
    "    for each element in params(a,b):\n",
    "        for row of rows in dataframe:\n",
    "            calculate min_hash value with parameters a,b,p,m and row id\n",
    "            find 1s in that row and their indexes\n",
    "            in signature_matrix substitude hash_value with values in signature matrix  if hash_value < current value\n",
    "```"
   ]
  },
  {
   "cell_type": "markdown",
   "id": "0c65f3df-26a2-4251-91df-706117837857",
   "metadata": {},
   "source": [
    "#### objective for creating update function\n",
    "\n",
    "To implement bellow part in pseudocode:\n",
    "```python\n",
    "in signature_matrix substitude hash_value with values in signature matrix  if hash_value < current value\n",
    "```"
   ]
  },
  {
   "cell_type": "code",
   "execution_count": 8,
   "id": "35a124c4-3ffb-49bf-8f6b-4338cb982f9e",
   "metadata": {},
   "outputs": [],
   "source": [
    "def update(matrix, col_of_matrix, index_sequence, value):\n",
    "    for index in index_sequence:\n",
    "        if matrix[index, col_of_matrix] > value:\n",
    "            matrix[index, col_of_matrix] = value\n",
    "    return matrix"
   ]
  },
  {
   "cell_type": "code",
   "execution_count": 9,
   "id": "07983cbb-6c05-4ea0-80f2-40990511f052",
   "metadata": {},
   "outputs": [],
   "source": [
    "def min_hash(df, params, num_minhash):\n",
    "    num_document = df.shape[0]\n",
    "    sig_matrix = np.ones((num_document,num_minhash)) * np.inf\n",
    "    sig_col = 0\n",
    "    for a,b in params:\n",
    "        print(f\"hash function {sig_col + 1} is computing...\")\n",
    "        for i in tqdm(range(df.shape[1]-1)):\n",
    "            hash_val = ( ( a * i + b ) % p ) % m\n",
    "            indices_of_1 = [index for index, value in enumerate(df.iloc[:,i].values) if value == 1]\n",
    "            update(sig_matrix, sig_col, indices_of_1, hash_val)\n",
    "\n",
    "        sig_col += 1\n",
    "        if sig_col > 25:\n",
    "            break\n",
    "    return sig_matrix"
   ]
  },
  {
   "cell_type": "markdown",
   "id": "c8de32cc-3e52-4108-9f26-0dd3aafc5fc9",
   "metadata": {
    "jp-MarkdownHeadingCollapsed": true
   },
   "source": [
    "## calculating Signatures "
   ]
  },
  {
   "cell_type": "code",
   "execution_count": 12,
   "id": "c458dd87-65ed-44aa-85fa-61a591f8ea3c",
   "metadata": {},
   "outputs": [
    {
     "name": "stdout",
     "output_type": "stream",
     "text": [
      "hash function 1 is computing...\n"
     ]
    },
    {
     "name": "stderr",
     "output_type": "stream",
     "text": [
      "100%|███████████████████████████████████| 199/199 [00:31<00:00,  6.23it/s]\n"
     ]
    },
    {
     "name": "stdout",
     "output_type": "stream",
     "text": [
      "hash function 2 is computing...\n"
     ]
    },
    {
     "name": "stderr",
     "output_type": "stream",
     "text": [
      "100%|███████████████████████████████████| 199/199 [00:32<00:00,  6.09it/s]\n"
     ]
    },
    {
     "name": "stdout",
     "output_type": "stream",
     "text": [
      "hash function 3 is computing...\n"
     ]
    },
    {
     "name": "stderr",
     "output_type": "stream",
     "text": [
      "100%|███████████████████████████████████| 199/199 [00:32<00:00,  6.09it/s]\n"
     ]
    },
    {
     "name": "stdout",
     "output_type": "stream",
     "text": [
      "hash function 4 is computing...\n"
     ]
    },
    {
     "name": "stderr",
     "output_type": "stream",
     "text": [
      "100%|███████████████████████████████████| 199/199 [00:31<00:00,  6.31it/s]\n"
     ]
    },
    {
     "name": "stdout",
     "output_type": "stream",
     "text": [
      "hash function 5 is computing...\n"
     ]
    },
    {
     "name": "stderr",
     "output_type": "stream",
     "text": [
      "100%|███████████████████████████████████| 199/199 [00:32<00:00,  6.13it/s]\n"
     ]
    },
    {
     "name": "stdout",
     "output_type": "stream",
     "text": [
      "hash function 6 is computing...\n"
     ]
    },
    {
     "name": "stderr",
     "output_type": "stream",
     "text": [
      "100%|███████████████████████████████████| 199/199 [00:32<00:00,  6.21it/s]\n"
     ]
    },
    {
     "name": "stdout",
     "output_type": "stream",
     "text": [
      "hash function 7 is computing...\n"
     ]
    },
    {
     "name": "stderr",
     "output_type": "stream",
     "text": [
      "100%|███████████████████████████████████| 199/199 [00:34<00:00,  5.83it/s]\n"
     ]
    },
    {
     "name": "stdout",
     "output_type": "stream",
     "text": [
      "hash function 8 is computing...\n"
     ]
    },
    {
     "name": "stderr",
     "output_type": "stream",
     "text": [
      "100%|███████████████████████████████████| 199/199 [00:34<00:00,  5.83it/s]\n"
     ]
    },
    {
     "name": "stdout",
     "output_type": "stream",
     "text": [
      "hash function 9 is computing...\n"
     ]
    },
    {
     "name": "stderr",
     "output_type": "stream",
     "text": [
      "100%|███████████████████████████████████| 199/199 [00:34<00:00,  5.82it/s]\n"
     ]
    },
    {
     "name": "stdout",
     "output_type": "stream",
     "text": [
      "hash function 10 is computing...\n"
     ]
    },
    {
     "name": "stderr",
     "output_type": "stream",
     "text": [
      "100%|███████████████████████████████████| 199/199 [00:34<00:00,  5.73it/s]\n"
     ]
    },
    {
     "name": "stdout",
     "output_type": "stream",
     "text": [
      "hash function 11 is computing...\n"
     ]
    },
    {
     "name": "stderr",
     "output_type": "stream",
     "text": [
      "100%|███████████████████████████████████| 199/199 [00:34<00:00,  5.78it/s]\n"
     ]
    },
    {
     "name": "stdout",
     "output_type": "stream",
     "text": [
      "hash function 12 is computing...\n"
     ]
    },
    {
     "name": "stderr",
     "output_type": "stream",
     "text": [
      "100%|███████████████████████████████████| 199/199 [00:36<00:00,  5.44it/s]\n"
     ]
    },
    {
     "name": "stdout",
     "output_type": "stream",
     "text": [
      "hash function 13 is computing...\n"
     ]
    },
    {
     "name": "stderr",
     "output_type": "stream",
     "text": [
      "100%|███████████████████████████████████| 199/199 [00:35<00:00,  5.56it/s]\n"
     ]
    },
    {
     "name": "stdout",
     "output_type": "stream",
     "text": [
      "hash function 14 is computing...\n"
     ]
    },
    {
     "name": "stderr",
     "output_type": "stream",
     "text": [
      "100%|███████████████████████████████████| 199/199 [00:34<00:00,  5.76it/s]\n"
     ]
    },
    {
     "name": "stdout",
     "output_type": "stream",
     "text": [
      "hash function 15 is computing...\n"
     ]
    },
    {
     "name": "stderr",
     "output_type": "stream",
     "text": [
      "100%|███████████████████████████████████| 199/199 [00:33<00:00,  5.91it/s]\n"
     ]
    },
    {
     "name": "stdout",
     "output_type": "stream",
     "text": [
      "hash function 16 is computing...\n"
     ]
    },
    {
     "name": "stderr",
     "output_type": "stream",
     "text": [
      "100%|███████████████████████████████████| 199/199 [00:34<00:00,  5.82it/s]\n"
     ]
    },
    {
     "name": "stdout",
     "output_type": "stream",
     "text": [
      "hash function 17 is computing...\n"
     ]
    },
    {
     "name": "stderr",
     "output_type": "stream",
     "text": [
      "100%|███████████████████████████████████| 199/199 [00:34<00:00,  5.83it/s]\n"
     ]
    },
    {
     "name": "stdout",
     "output_type": "stream",
     "text": [
      "hash function 18 is computing...\n"
     ]
    },
    {
     "name": "stderr",
     "output_type": "stream",
     "text": [
      "100%|███████████████████████████████████| 199/199 [00:33<00:00,  5.94it/s]\n"
     ]
    },
    {
     "name": "stdout",
     "output_type": "stream",
     "text": [
      "hash function 19 is computing...\n"
     ]
    },
    {
     "name": "stderr",
     "output_type": "stream",
     "text": [
      "100%|███████████████████████████████████| 199/199 [00:36<00:00,  5.50it/s]\n"
     ]
    },
    {
     "name": "stdout",
     "output_type": "stream",
     "text": [
      "hash function 20 is computing...\n"
     ]
    },
    {
     "name": "stderr",
     "output_type": "stream",
     "text": [
      "100%|███████████████████████████████████| 199/199 [00:34<00:00,  5.77it/s]\n"
     ]
    },
    {
     "name": "stdout",
     "output_type": "stream",
     "text": [
      "hash function 21 is computing...\n"
     ]
    },
    {
     "name": "stderr",
     "output_type": "stream",
     "text": [
      "100%|███████████████████████████████████| 199/199 [00:35<00:00,  5.62it/s]\n"
     ]
    },
    {
     "name": "stdout",
     "output_type": "stream",
     "text": [
      "hash function 22 is computing...\n"
     ]
    },
    {
     "name": "stderr",
     "output_type": "stream",
     "text": [
      "100%|███████████████████████████████████| 199/199 [00:34<00:00,  5.74it/s]\n"
     ]
    },
    {
     "name": "stdout",
     "output_type": "stream",
     "text": [
      "hash function 23 is computing...\n"
     ]
    },
    {
     "name": "stderr",
     "output_type": "stream",
     "text": [
      "100%|███████████████████████████████████| 199/199 [00:35<00:00,  5.65it/s]\n"
     ]
    },
    {
     "name": "stdout",
     "output_type": "stream",
     "text": [
      "hash function 24 is computing...\n"
     ]
    },
    {
     "name": "stderr",
     "output_type": "stream",
     "text": [
      "100%|███████████████████████████████████| 199/199 [00:35<00:00,  5.59it/s]\n"
     ]
    },
    {
     "name": "stdout",
     "output_type": "stream",
     "text": [
      "hash function 25 is computing...\n"
     ]
    },
    {
     "name": "stderr",
     "output_type": "stream",
     "text": [
      "100%|███████████████████████████████████| 199/199 [00:35<00:00,  5.64it/s]\n"
     ]
    }
   ],
   "source": [
    "signature = min_hash(df, params, 25)"
   ]
  },
  {
   "cell_type": "markdown",
   "id": "ac578a9d-dd4b-463f-95fb-d7d4138a93e6",
   "metadata": {
    "jp-MarkdownHeadingCollapsed": true
   },
   "source": [
    "## Save signature matrix\n",
    "Due to long time of processing, I save signature_matrix in **.npy** Format."
   ]
  },
  {
   "cell_type": "code",
   "execution_count": 13,
   "id": "ca8886a6-0674-4cbe-bb21-5714a14bb177",
   "metadata": {},
   "outputs": [],
   "source": [
    "np.save('signature',signature)"
   ]
  },
  {
   "cell_type": "markdown",
   "id": "e7df316a-6920-4f9d-99aa-6a408c0b739e",
   "metadata": {
    "jp-MarkdownHeadingCollapsed": true
   },
   "source": [
    "## load matrix form file in .npy format"
   ]
  },
  {
   "cell_type": "code",
   "execution_count": 21,
   "id": "11bd5a33-0916-4e59-8b5a-2ecfef36b74d",
   "metadata": {},
   "outputs": [],
   "source": [
    "# signature = np.load('signature.npy')"
   ]
  },
  {
   "cell_type": "markdown",
   "id": "110b724f-7f48-4cda-a8e1-fcc8b57ab825",
   "metadata": {
    "jp-MarkdownHeadingCollapsed": true
   },
   "source": [
    "## Transpose signature matrix\n",
    "\n",
    "signature matrix rows are documents and columns are signature values. \n",
    "on the other hand, Refrence, it is opposite, meaning rows are signature values and columns are documents. So I transpose the matrix."
   ]
  },
  {
   "cell_type": "code",
   "execution_count": 19,
   "id": "2aee7158-bad7-4fb1-bf38-f991c0242f79",
   "metadata": {},
   "outputs": [
    {
     "data": {
      "text/plain": [
       "(25, 1000000)"
      ]
     },
     "execution_count": 19,
     "metadata": {},
     "output_type": "execute_result"
    }
   ],
   "source": [
    "signature.T.shape"
   ]
  },
  {
   "cell_type": "markdown",
   "id": "423268c4-fe59-4500-893d-0ba94a912495",
   "metadata": {
    "jp-MarkdownHeadingCollapsed": true
   },
   "source": [
    "## Implementing LSH algorithm \n",
    "\n",
    "for **LSH** the number of bands I decided to use is 25.\n",
    "\n",
    "Also for bucket hashing I decide a linear function which avoids of **False positives** because of linearity characteristic! \n",
    "\n",
    "$$\n",
    "h(X1,X2,X3,X4,X5) = X1*c1 + X2*c2 + X3*c3 + X4*c4 + X5*c5 \n",
    "$$\n",
    "\n",
    "* Here **X** is elements of signature matrix\n",
    "* [ c1, c2, c3, c4, c5 ] = [2, 4, 1, 5, 7]"
   ]
  },
  {
   "cell_type": "code",
   "execution_count": 20,
   "id": "b01104b1-a3be-44e1-a27c-0d0fee6a0769",
   "metadata": {},
   "outputs": [],
   "source": [
    "band1 = signature.T[0:5,:]\n",
    "band2 = signature.T[6:10,:]\n",
    "band3 = signature.T[11:15,:]\n",
    "band4 = signature.T[16:20,:]\n",
    "band5 = signature.T[20:24,:]\n",
    "\n",
    "band_list = [band1, band2, band3, band4, band5]\n",
    "hash_param = [2,4,1,5,7]"
   ]
  },
  {
   "cell_type": "markdown",
   "id": "e29d4d28-4867-4dac-ae54-e73a1125e34d",
   "metadata": {},
   "source": [
    "Now:\n",
    "- We have 5 buckets. each bucket is saved in a dictionary named **bucket** \n",
    "- And all dictionaries are saved in a list named **buckets**\n",
    "\n",
    "I hash each band of each document to a bucket number. \n",
    "After calculating bucket number, a save becket number as ***key*** and ***dic_id*** as a value in bucket dictinary.\n",
    "\n",
    "After finishing each bucket, I append current bucket dictionary to *bucket list* and then reset bucket dictionary."
   ]
  },
  {
   "cell_type": "code",
   "execution_count": 21,
   "id": "8f1dcd99-ef10-4100-ad86-04c00b0bb35e",
   "metadata": {},
   "outputs": [],
   "source": [
    "bucket = {}\n",
    "buckets = []\n",
    "for band in band_list:\n",
    "    for document in range(band.shape[1]):\n",
    "        hash_val = np.dot(band1[:,document],[2,4,1,5,7])\n",
    "        if hash_val in bucket.keys():\n",
    "            bucket[hash_val].append(document)\n",
    "        else:\n",
    "            bucket[hash_val]=[document]\n",
    "    buckets.append(bucket)\n",
    "    bucket = {}"
   ]
  },
  {
   "cell_type": "code",
   "execution_count": 22,
   "id": "bc74e634-b551-4bcc-9dfc-78f1b73ef2b2",
   "metadata": {},
   "outputs": [
    {
     "data": {
      "text/plain": [
       "5"
      ]
     },
     "execution_count": 22,
     "metadata": {},
     "output_type": "execute_result"
    }
   ],
   "source": [
    "len(buckets)"
   ]
  },
  {
   "cell_type": "markdown",
   "id": "bf9cfd20-2ced-4c8f-bf03-7764621d92ad",
   "metadata": {
    "jp-MarkdownHeadingCollapsed": true
   },
   "source": [
    "## Defining jacard function \n",
    "\n",
    "For finding two rows of two documents that both of them has 1 value, I used ***AND*** operation\n",
    "For finding two rows of two documents that at least one of them  has 1 value, I used ***OR*** operation. \n",
    "\n",
    "\n",
    "I assign:\n",
    "- **similar** = len(and_output)\n",
    "- **total** = len(or_output)\n",
    "\n",
    "\n",
    "\n",
    "Then jacard value will be:\n",
    "$$\n",
    "jacard = similar / total\n",
    "$$"
   ]
  },
  {
   "cell_type": "code",
   "execution_count": 23,
   "id": "9deb5d7f-1f7f-4665-ad49-3cf45d62f534",
   "metadata": {},
   "outputs": [],
   "source": [
    "def jacard(a,b):\n",
    "    sim = len([index for index, val in enumerate(a & b) if val == 1])\n",
    "    total = len([index for index, val in enumerate(a | b) if val == 1])\n",
    "    return sim/total"
   ]
  },
  {
   "cell_type": "markdown",
   "id": "8728516e-6907-4937-ae2b-e766f222de2b",
   "metadata": {
    "jp-MarkdownHeadingCollapsed": true
   },
   "source": [
    "## finding documents similar to domcument-0\n",
    "\n",
    "In this cell, I just do some filter:"
   ]
  },
  {
   "cell_type": "code",
   "execution_count": 24,
   "id": "644c464f-bccf-49e5-9bf0-7c2ba627d3be",
   "metadata": {},
   "outputs": [],
   "source": [
    "k = 1\n",
    "sim_to_doc0_docs = set()\n",
    "for bucket in buckets:\n",
    "    for hash_value in bucket.keys():\n",
    "        if (len(bucket[hash_value]) > 1) and (0 in bucket[hash_value]):\n",
    "            for doc in bucket[hash_value]:\n",
    "                if doc != 0:\n",
    "                    sim_to_doc0_docs.add(doc)\n",
    "    k += 1"
   ]
  },
  {
   "cell_type": "markdown",
   "id": "78e7897e-c085-47f4-9b04-e325ee644b12",
   "metadata": {},
   "source": [
    "#### number of all documents similar to document_0"
   ]
  },
  {
   "cell_type": "code",
   "execution_count": 25,
   "id": "5b54f34c-c396-4ee9-9868-b059b2c00218",
   "metadata": {},
   "outputs": [
    {
     "data": {
      "text/plain": [
       "2974"
      ]
     },
     "execution_count": 25,
     "metadata": {},
     "output_type": "execute_result"
    }
   ],
   "source": [
    "len(sim_to_doc0_docs)"
   ]
  },
  {
   "cell_type": "markdown",
   "id": "6dd8ff4b-dfeb-482e-922c-3bf3a35be6e7",
   "metadata": {},
   "source": [
    "#### assign variable to document_0"
   ]
  },
  {
   "cell_type": "code",
   "execution_count": 26,
   "id": "72b51d01-1328-4d6e-861f-8f3cf3aecbd0",
   "metadata": {},
   "outputs": [],
   "source": [
    "doc_0 = df.iloc[0,:].values"
   ]
  },
  {
   "cell_type": "markdown",
   "id": "700f3ddf-dee4-4ecf-b9ac-104d7fa4f4ee",
   "metadata": {
    "jp-MarkdownHeadingCollapsed": true
   },
   "source": [
    "## Calculating jacard values for ducuments that are recognized as similar by LSH algorithm "
   ]
  },
  {
   "cell_type": "code",
   "execution_count": 27,
   "id": "285eb72d-ac73-4c41-9f36-a106050061bd",
   "metadata": {},
   "outputs": [],
   "source": [
    "jacard_eval = {}\n",
    "for doc in sim_to_doc0_docs:\n",
    "    document = df.iloc[doc,:].values\n",
    "    j = jacard(doc_0,document)\n",
    "    jacard_eval[doc] = j"
   ]
  },
  {
   "cell_type": "markdown",
   "id": "fd47e5b8-abc3-4dc8-a858-34fabfd6875a",
   "metadata": {},
   "source": [
    "#### Sort by High jacard values"
   ]
  },
  {
   "cell_type": "code",
   "execution_count": 28,
   "id": "8e8b1e18-3ddf-4df7-a5d5-c6f21efd915d",
   "metadata": {},
   "outputs": [],
   "source": [
    "tmp = list()\n",
    "for k,v in jacard_eval.items():\n",
    "    tmp.append((v,k))\n",
    "tmp = sorted(tmp, reverse = True)"
   ]
  },
  {
   "cell_type": "markdown",
   "id": "f753f30b-c0f6-4549-916c-d3cf67eacec4",
   "metadata": {
    "jp-MarkdownHeadingCollapsed": true
   },
   "source": [
    "## Picking top 30 document"
   ]
  },
  {
   "cell_type": "code",
   "execution_count": 29,
   "id": "162db4ac-6fd5-400d-a758-7d21119b531d",
   "metadata": {},
   "outputs": [
    {
     "name": "stdout",
     "output_type": "stream",
     "text": [
      "(0,84306) ---> 0.8333333333333334\n",
      "(0,81480) ---> 0.8333333333333334\n",
      "(0,40298) ---> 0.8333333333333334\n",
      "(0,20854) ---> 0.8333333333333334\n",
      "(0,84520) ---> 0.8181818181818182\n",
      "(0,81289) ---> 0.8181818181818182\n",
      "(0,72156) ---> 0.8181818181818182\n",
      "(0,68730) ---> 0.8181818181818182\n",
      "(0,58694) ---> 0.8181818181818182\n",
      "(0,52076) ---> 0.8181818181818182\n",
      "(0,48131) ---> 0.8181818181818182\n",
      "(0,26980) ---> 0.8181818181818182\n",
      "(0,23585) ---> 0.8181818181818182\n",
      "(0,2575) ---> 0.8181818181818182\n",
      "(0,1331) ---> 0.8181818181818182\n",
      "(0,89580) ---> 0.75\n",
      "(0,83373) ---> 0.75\n",
      "(0,73687) ---> 0.75\n",
      "(0,72078) ---> 0.75\n",
      "(0,70964) ---> 0.75\n",
      "(0,68114) ---> 0.75\n",
      "(0,63678) ---> 0.75\n",
      "(0,62869) ---> 0.75\n",
      "(0,58819) ---> 0.75\n",
      "(0,57514) ---> 0.75\n",
      "(0,57005) ---> 0.75\n",
      "(0,49989) ---> 0.75\n",
      "(0,47558) ---> 0.75\n",
      "(0,45793) ---> 0.75\n",
      "(0,42302) ---> 0.75\n"
     ]
    }
   ],
   "source": [
    "for jacard, doc in tmp[0:30]:\n",
    "    print(f'(0,{doc}) ---> {jacard}')"
   ]
  }
 ],
 "metadata": {
  "kernelspec": {
   "display_name": "Python 3 (ipykernel)",
   "language": "python",
   "name": "python3"
  },
  "language_info": {
   "codemirror_mode": {
    "name": "ipython",
    "version": 3
   },
   "file_extension": ".py",
   "mimetype": "text/x-python",
   "name": "python",
   "nbconvert_exporter": "python",
   "pygments_lexer": "ipython3",
   "version": "3.8.10"
  }
 },
 "nbformat": 4,
 "nbformat_minor": 5
}
